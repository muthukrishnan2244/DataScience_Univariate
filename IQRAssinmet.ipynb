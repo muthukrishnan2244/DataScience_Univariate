{
 "cells": [
  {
   "cell_type": "code",
   "execution_count": 1,
   "id": "fda087a3",
   "metadata": {},
   "outputs": [],
   "source": [
    "import pandas as pd"
   ]
  },
  {
   "cell_type": "code",
   "execution_count": 2,
   "id": "fe4f0773",
   "metadata": {},
   "outputs": [],
   "source": [
    "IQR=pd.read_csv(\"IQRAssignment.csv\")"
   ]
  },
  {
   "cell_type": "code",
   "execution_count": 3,
   "id": "8d2237a1",
   "metadata": {},
   "outputs": [],
   "source": [
    "IQRASS=pd.DataFrame(index=[\"Minimum\",\"Q1\",\"Median\",\"Q3\",\"Maximum\",\"IQR\",\"1.5Rule\",\"Lesser\",\"Greater\"],columns=[\"Day\",\"Night\"]) "
   ]
  },
  {
   "cell_type": "code",
   "execution_count": 4,
   "id": "ddc2ada8",
   "metadata": {},
   "outputs": [
    {
     "data": {
      "text/html": [
       "<div>\n",
       "<style scoped>\n",
       "    .dataframe tbody tr th:only-of-type {\n",
       "        vertical-align: middle;\n",
       "    }\n",
       "\n",
       "    .dataframe tbody tr th {\n",
       "        vertical-align: top;\n",
       "    }\n",
       "\n",
       "    .dataframe thead th {\n",
       "        text-align: right;\n",
       "    }\n",
       "</style>\n",
       "<table border=\"1\" class=\"dataframe\">\n",
       "  <thead>\n",
       "    <tr style=\"text-align: right;\">\n",
       "      <th></th>\n",
       "      <th>Day</th>\n",
       "      <th>Night</th>\n",
       "    </tr>\n",
       "  </thead>\n",
       "  <tbody>\n",
       "    <tr>\n",
       "      <th>Minimum</th>\n",
       "      <td>NaN</td>\n",
       "      <td>NaN</td>\n",
       "    </tr>\n",
       "    <tr>\n",
       "      <th>Q1</th>\n",
       "      <td>NaN</td>\n",
       "      <td>NaN</td>\n",
       "    </tr>\n",
       "    <tr>\n",
       "      <th>Median</th>\n",
       "      <td>NaN</td>\n",
       "      <td>NaN</td>\n",
       "    </tr>\n",
       "    <tr>\n",
       "      <th>Q3</th>\n",
       "      <td>NaN</td>\n",
       "      <td>NaN</td>\n",
       "    </tr>\n",
       "    <tr>\n",
       "      <th>Maximum</th>\n",
       "      <td>NaN</td>\n",
       "      <td>NaN</td>\n",
       "    </tr>\n",
       "    <tr>\n",
       "      <th>IQR</th>\n",
       "      <td>NaN</td>\n",
       "      <td>NaN</td>\n",
       "    </tr>\n",
       "    <tr>\n",
       "      <th>1.5Rule</th>\n",
       "      <td>NaN</td>\n",
       "      <td>NaN</td>\n",
       "    </tr>\n",
       "    <tr>\n",
       "      <th>Lesser</th>\n",
       "      <td>NaN</td>\n",
       "      <td>NaN</td>\n",
       "    </tr>\n",
       "    <tr>\n",
       "      <th>Greater</th>\n",
       "      <td>NaN</td>\n",
       "      <td>NaN</td>\n",
       "    </tr>\n",
       "  </tbody>\n",
       "</table>\n",
       "</div>"
      ],
      "text/plain": [
       "         Day Night\n",
       "Minimum  NaN   NaN\n",
       "Q1       NaN   NaN\n",
       "Median   NaN   NaN\n",
       "Q3       NaN   NaN\n",
       "Maximum  NaN   NaN\n",
       "IQR      NaN   NaN\n",
       "1.5Rule  NaN   NaN\n",
       "Lesser   NaN   NaN\n",
       "Greater  NaN   NaN"
      ]
     },
     "execution_count": 4,
     "metadata": {},
     "output_type": "execute_result"
    }
   ],
   "source": [
    "IQRASS"
   ]
  },
  {
   "cell_type": "code",
   "execution_count": 5,
   "id": "f04c49dc",
   "metadata": {},
   "outputs": [],
   "source": [
    "IQRASS.loc[\"Minimum\"] = [32.0, 25.5]\n",
    "IQRASS.loc[\"Q1\"] = [56, 78]\n",
    "IQRASS.loc[\"Median\"] = [74.5, 81.0]\n",
    "IQRASS.loc[\"Q3\"] = [82.5, 89.0]\n",
    "IQRASS.loc[\"Maximum\"] = [99, 98]\n",
    "IQRASS.loc[\"IQR\"]=IQRASS.loc[\"Q3\"]-IQRASS.loc[\"Q1\"]\n",
    "IQRASS.loc[\"1.5Rule\"]=1.5*IQRASS.loc[\"IQR\"]\n",
    "IQRASS.loc[\"Lesser\"]=IQRASS.loc[\"Q1\"]-IQRASS.loc[\"1.5Rule\"]\n",
    "IQRASS.loc[\"Greater\"]=IQRASS.loc[\"Q3\"]+IQRASS.loc[\"1.5Rule\"]"
   ]
  },
  {
   "cell_type": "code",
   "execution_count": 6,
   "id": "3d941a53",
   "metadata": {},
   "outputs": [],
   "source": [
    "for col in [\"Day\", \"Night\"]:\n",
    "    if(IQRASS.loc[\"Minimum\",col]<IQRASS.loc[\"Lesser\", col]):\n",
    "        IQRASS.loc[\"Minimum\", col] = IQRASS.loc[\"Lesser\", col]\n",
    "    if(IQRASS.loc[\"Maximum\", col] > IQRASS.loc[\"Greater\", col]):\n",
    "        IQRASS.loc[\"Maximum\", col] = IQRASS.loc[\"Greater\", col]"
   ]
  },
  {
   "cell_type": "code",
   "execution_count": 7,
   "id": "535563db",
   "metadata": {},
   "outputs": [
    {
     "data": {
      "text/html": [
       "<div>\n",
       "<style scoped>\n",
       "    .dataframe tbody tr th:only-of-type {\n",
       "        vertical-align: middle;\n",
       "    }\n",
       "\n",
       "    .dataframe tbody tr th {\n",
       "        vertical-align: top;\n",
       "    }\n",
       "\n",
       "    .dataframe thead th {\n",
       "        text-align: right;\n",
       "    }\n",
       "</style>\n",
       "<table border=\"1\" class=\"dataframe\">\n",
       "  <thead>\n",
       "    <tr style=\"text-align: right;\">\n",
       "      <th></th>\n",
       "      <th>Day</th>\n",
       "      <th>Night</th>\n",
       "    </tr>\n",
       "  </thead>\n",
       "  <tbody>\n",
       "    <tr>\n",
       "      <th>Minimum</th>\n",
       "      <td>32</td>\n",
       "      <td>61.5</td>\n",
       "    </tr>\n",
       "    <tr>\n",
       "      <th>Q1</th>\n",
       "      <td>56</td>\n",
       "      <td>78</td>\n",
       "    </tr>\n",
       "    <tr>\n",
       "      <th>Median</th>\n",
       "      <td>74.5</td>\n",
       "      <td>81</td>\n",
       "    </tr>\n",
       "    <tr>\n",
       "      <th>Q3</th>\n",
       "      <td>82.5</td>\n",
       "      <td>89</td>\n",
       "    </tr>\n",
       "    <tr>\n",
       "      <th>Maximum</th>\n",
       "      <td>99</td>\n",
       "      <td>98</td>\n",
       "    </tr>\n",
       "    <tr>\n",
       "      <th>IQR</th>\n",
       "      <td>26.5</td>\n",
       "      <td>11</td>\n",
       "    </tr>\n",
       "    <tr>\n",
       "      <th>1.5Rule</th>\n",
       "      <td>39.75</td>\n",
       "      <td>16.5</td>\n",
       "    </tr>\n",
       "    <tr>\n",
       "      <th>Lesser</th>\n",
       "      <td>16.25</td>\n",
       "      <td>61.5</td>\n",
       "    </tr>\n",
       "    <tr>\n",
       "      <th>Greater</th>\n",
       "      <td>122.25</td>\n",
       "      <td>105.5</td>\n",
       "    </tr>\n",
       "  </tbody>\n",
       "</table>\n",
       "</div>"
      ],
      "text/plain": [
       "            Day  Night\n",
       "Minimum      32   61.5\n",
       "Q1           56     78\n",
       "Median     74.5     81\n",
       "Q3         82.5     89\n",
       "Maximum      99     98\n",
       "IQR        26.5     11\n",
       "1.5Rule   39.75   16.5\n",
       "Lesser    16.25   61.5\n",
       "Greater  122.25  105.5"
      ]
     },
     "execution_count": 7,
     "metadata": {},
     "output_type": "execute_result"
    }
   ],
   "source": [
    "IQRASS"
   ]
  },
  {
   "cell_type": "code",
   "execution_count": null,
   "id": "60424aba",
   "metadata": {},
   "outputs": [],
   "source": []
  }
 ],
 "metadata": {
  "kernelspec": {
   "display_name": "Python 3 (ipykernel)",
   "language": "python",
   "name": "python3"
  },
  "language_info": {
   "codemirror_mode": {
    "name": "ipython",
    "version": 3
   },
   "file_extension": ".py",
   "mimetype": "text/x-python",
   "name": "python",
   "nbconvert_exporter": "python",
   "pygments_lexer": "ipython3",
   "version": "3.7.1"
  }
 },
 "nbformat": 4,
 "nbformat_minor": 5
}
